{
  "cells": [
    {
      "cell_type": "markdown",
      "metadata": {
        "id": "L_9A5rc1Fg31"
      },
      "source": [
        "# Multi-Agent Order Management System with MongoDB\n",
        "\n",
        "This notebook implements a multi-agent system for managing product orders, inventory, and deliveries using:\n",
        "- [smolagents](https://github.com/huggingface/smolagents/tree/main) for agent management\n",
        "- MongoDB for data persistence\n",
        "- DeepSeek Chat as the LLM model\n",
        "\n",
        "## Setting Up MongoDB Atlas\n",
        "\n",
        "1. Create a free MongoDB Atlas account at [https://www.mongodb.com/cloud/atlas/register](https://www.mongodb.com/cloud/atlas/register)\n",
        "2. [Create a new cluster](https://www.mongodb.com/docs/atlas/tutorial/create-new-cluster/) (free tier is sufficient)\n",
        "3. Configure network access by adding your IP address\n",
        "4. Create a database user with read/write permissions\n",
        "5. Get your connection string from Atlas UI (Click \"Connect\" > \"Connect your application\")\n",
        "6. Replace `<password>` in the connection string with your database user's password\n",
        "7. Enable network access from your IP address in the Network Access settings\n",
        "\n",
        "\n",
        "### Security Considerations\n",
        "\n",
        "When working with MongoDB Atlas:\n",
        "- Never commit connection strings with credentials to version control\n",
        "- Use environment variables or secure secret management\n",
        "- Restrict database user permissions to only what's needed\n",
        "- Enable IP allowlist in Atlas Network Access settings\n",
        "\n",
        "\n",
        "## Setup\n",
        "First, let's install required dependencies:"
      ]
    },
    {
      "cell_type": "code",
      "execution_count": 32,
      "metadata": {
        "colab": {
          "base_uri": "https://localhost:8080/"
        },
        "id": "G8R5u8fuFg33",
        "outputId": "40aa596c-f60f-445c-9f9a-2ba173e86ba0"
      },
      "outputs": [
        {
          "output_type": "stream",
          "name": "stdout",
          "text": [
            "Requirement already satisfied: smolagents in /usr/local/lib/python3.11/dist-packages (1.17.0)\n",
            "Requirement already satisfied: pymongo in /usr/local/lib/python3.11/dist-packages (4.13.0)\n",
            "Requirement already satisfied: litellm in /usr/local/lib/python3.11/dist-packages (1.72.0)\n",
            "Requirement already satisfied: huggingface-hub>=0.31.2 in /usr/local/lib/python3.11/dist-packages (from smolagents) (0.31.4)\n",
            "Requirement already satisfied: requests>=2.32.3 in /usr/local/lib/python3.11/dist-packages (from smolagents) (2.32.3)\n",
            "Requirement already satisfied: rich>=13.9.4 in /usr/local/lib/python3.11/dist-packages (from smolagents) (13.9.4)\n",
            "Requirement already satisfied: jinja2>=3.1.4 in /usr/local/lib/python3.11/dist-packages (from smolagents) (3.1.6)\n",
            "Requirement already satisfied: pillow>=10.0.1 in /usr/local/lib/python3.11/dist-packages (from smolagents) (11.2.1)\n",
            "Requirement already satisfied: python-dotenv in /usr/local/lib/python3.11/dist-packages (from smolagents) (1.1.0)\n",
            "Requirement already satisfied: dnspython<3.0.0,>=1.16.0 in /usr/local/lib/python3.11/dist-packages (from pymongo) (2.7.0)\n",
            "Requirement already satisfied: aiohttp in /usr/local/lib/python3.11/dist-packages (from litellm) (3.11.15)\n",
            "Requirement already satisfied: click in /usr/local/lib/python3.11/dist-packages (from litellm) (8.2.1)\n",
            "Requirement already satisfied: httpx>=0.23.0 in /usr/local/lib/python3.11/dist-packages (from litellm) (0.28.1)\n",
            "Requirement already satisfied: importlib-metadata>=6.8.0 in /usr/local/lib/python3.11/dist-packages (from litellm) (8.7.0)\n",
            "Requirement already satisfied: jsonschema<5.0.0,>=4.22.0 in /usr/local/lib/python3.11/dist-packages (from litellm) (4.23.0)\n",
            "Requirement already satisfied: openai>=1.68.2 in /usr/local/lib/python3.11/dist-packages (from litellm) (1.81.0)\n",
            "Requirement already satisfied: pydantic<3.0.0,>=2.0.0 in /usr/local/lib/python3.11/dist-packages (from litellm) (2.11.4)\n",
            "Requirement already satisfied: tiktoken>=0.7.0 in /usr/local/lib/python3.11/dist-packages (from litellm) (0.9.0)\n",
            "Requirement already satisfied: tokenizers in /usr/local/lib/python3.11/dist-packages (from litellm) (0.21.1)\n",
            "Requirement already satisfied: anyio in /usr/local/lib/python3.11/dist-packages (from httpx>=0.23.0->litellm) (4.9.0)\n",
            "Requirement already satisfied: certifi in /usr/local/lib/python3.11/dist-packages (from httpx>=0.23.0->litellm) (2025.4.26)\n",
            "Requirement already satisfied: httpcore==1.* in /usr/local/lib/python3.11/dist-packages (from httpx>=0.23.0->litellm) (1.0.9)\n",
            "Requirement already satisfied: idna in /usr/local/lib/python3.11/dist-packages (from httpx>=0.23.0->litellm) (3.10)\n",
            "Requirement already satisfied: h11>=0.16 in /usr/local/lib/python3.11/dist-packages (from httpcore==1.*->httpx>=0.23.0->litellm) (0.16.0)\n",
            "Requirement already satisfied: filelock in /usr/local/lib/python3.11/dist-packages (from huggingface-hub>=0.31.2->smolagents) (3.18.0)\n",
            "Requirement already satisfied: fsspec>=2023.5.0 in /usr/local/lib/python3.11/dist-packages (from huggingface-hub>=0.31.2->smolagents) (2025.3.2)\n",
            "Requirement already satisfied: packaging>=20.9 in /usr/local/lib/python3.11/dist-packages (from huggingface-hub>=0.31.2->smolagents) (24.2)\n",
            "Requirement already satisfied: pyyaml>=5.1 in /usr/local/lib/python3.11/dist-packages (from huggingface-hub>=0.31.2->smolagents) (6.0.2)\n",
            "Requirement already satisfied: tqdm>=4.42.1 in /usr/local/lib/python3.11/dist-packages (from huggingface-hub>=0.31.2->smolagents) (4.67.1)\n",
            "Requirement already satisfied: typing-extensions>=3.7.4.3 in /usr/local/lib/python3.11/dist-packages (from huggingface-hub>=0.31.2->smolagents) (4.13.2)\n",
            "Requirement already satisfied: zipp>=3.20 in /usr/local/lib/python3.11/dist-packages (from importlib-metadata>=6.8.0->litellm) (3.21.0)\n",
            "Requirement already satisfied: MarkupSafe>=2.0 in /usr/local/lib/python3.11/dist-packages (from jinja2>=3.1.4->smolagents) (3.0.2)\n",
            "Requirement already satisfied: attrs>=22.2.0 in /usr/local/lib/python3.11/dist-packages (from jsonschema<5.0.0,>=4.22.0->litellm) (25.3.0)\n",
            "Requirement already satisfied: jsonschema-specifications>=2023.03.6 in /usr/local/lib/python3.11/dist-packages (from jsonschema<5.0.0,>=4.22.0->litellm) (2025.4.1)\n",
            "Requirement already satisfied: referencing>=0.28.4 in /usr/local/lib/python3.11/dist-packages (from jsonschema<5.0.0,>=4.22.0->litellm) (0.36.2)\n",
            "Requirement already satisfied: rpds-py>=0.7.1 in /usr/local/lib/python3.11/dist-packages (from jsonschema<5.0.0,>=4.22.0->litellm) (0.25.1)\n",
            "Requirement already satisfied: distro<2,>=1.7.0 in /usr/local/lib/python3.11/dist-packages (from openai>=1.68.2->litellm) (1.9.0)\n",
            "Requirement already satisfied: jiter<1,>=0.4.0 in /usr/local/lib/python3.11/dist-packages (from openai>=1.68.2->litellm) (0.10.0)\n",
            "Requirement already satisfied: sniffio in /usr/local/lib/python3.11/dist-packages (from openai>=1.68.2->litellm) (1.3.1)\n",
            "Requirement already satisfied: annotated-types>=0.6.0 in /usr/local/lib/python3.11/dist-packages (from pydantic<3.0.0,>=2.0.0->litellm) (0.7.0)\n",
            "Requirement already satisfied: pydantic-core==2.33.2 in /usr/local/lib/python3.11/dist-packages (from pydantic<3.0.0,>=2.0.0->litellm) (2.33.2)\n",
            "Requirement already satisfied: typing-inspection>=0.4.0 in /usr/local/lib/python3.11/dist-packages (from pydantic<3.0.0,>=2.0.0->litellm) (0.4.1)\n",
            "Requirement already satisfied: charset-normalizer<4,>=2 in /usr/local/lib/python3.11/dist-packages (from requests>=2.32.3->smolagents) (3.4.2)\n",
            "Requirement already satisfied: urllib3<3,>=1.21.1 in /usr/local/lib/python3.11/dist-packages (from requests>=2.32.3->smolagents) (2.4.0)\n",
            "Requirement already satisfied: markdown-it-py>=2.2.0 in /usr/local/lib/python3.11/dist-packages (from rich>=13.9.4->smolagents) (3.0.0)\n",
            "Requirement already satisfied: pygments<3.0.0,>=2.13.0 in /usr/local/lib/python3.11/dist-packages (from rich>=13.9.4->smolagents) (2.19.1)\n",
            "Requirement already satisfied: regex>=2022.1.18 in /usr/local/lib/python3.11/dist-packages (from tiktoken>=0.7.0->litellm) (2024.11.6)\n",
            "Requirement already satisfied: aiohappyeyeballs>=2.3.0 in /usr/local/lib/python3.11/dist-packages (from aiohttp->litellm) (2.6.1)\n",
            "Requirement already satisfied: aiosignal>=1.1.2 in /usr/local/lib/python3.11/dist-packages (from aiohttp->litellm) (1.3.2)\n",
            "Requirement already satisfied: frozenlist>=1.1.1 in /usr/local/lib/python3.11/dist-packages (from aiohttp->litellm) (1.6.0)\n",
            "Requirement already satisfied: multidict<7.0,>=4.5 in /usr/local/lib/python3.11/dist-packages (from aiohttp->litellm) (6.4.4)\n",
            "Requirement already satisfied: propcache>=0.2.0 in /usr/local/lib/python3.11/dist-packages (from aiohttp->litellm) (0.3.1)\n",
            "Requirement already satisfied: yarl<2.0,>=1.17.0 in /usr/local/lib/python3.11/dist-packages (from aiohttp->litellm) (1.20.0)\n",
            "Requirement already satisfied: mdurl~=0.1 in /usr/local/lib/python3.11/dist-packages (from markdown-it-py>=2.2.0->rich>=13.9.4->smolagents) (0.1.2)\n"
          ]
        }
      ],
      "source": [
        "!pip install smolagents pymongo litellm"
      ]
    },
    {
      "cell_type": "markdown",
      "metadata": {
        "id": "vHoG9TzuFg34"
      },
      "source": [
        "## Import Dependencies\n",
        "\n",
        "Set in your secrets the `MONGODB_URI` and `DEEPSEEK_API_KEY` from https://www.deepseek.com/ (or any other LLM provider)\n",
        "\n",
        "Import all required libraries and setup the LLM model:"
      ]
    },
    {
      "cell_type": "code",
      "execution_count": 33,
      "metadata": {
        "id": "GH2gFsMtFg34"
      },
      "outputs": [],
      "source": [
        "from smolagents.agents import ToolCallingAgent, CodeAgent # Import ManagedAgent from smolagents.agents\n",
        "from smolagents import tool, LiteLLMModel\n",
        "from pymongo import MongoClient\n",
        "from datetime import datetime\n",
        "from google.colab import userdata\n",
        "from typing import List, Dict, Optional\n",
        "\n",
        "# Initialize LLM model\n",
        "MODEL_ID = \"mistralai/Mixtral-8x7B-Instruct-v0.1\"\n",
        "MONGODB_URI = userdata.get('MONGO_URI')\n",
        "# DEEPSEEK_API_KEY = userdata.get('DEEPSEEK_API_KEY')"
      ]
    },
    {
      "cell_type": "code",
      "source": [
        "from litellm import completion\n",
        "import os\n",
        "\n",
        "## set ENV variables\n",
        "os.environ[\"OPENAI_API_KEY\"] = \"\"\n",
        "\n",
        "response = completion(\n",
        "  model=\"openai/gpt-4o\",\n",
        "  messages=[{ \"content\": \"Hello, how are you?\",\"role\": \"user\"}]\n",
        ")"
      ],
      "metadata": {
        "id": "Scowrd1zIClN"
      },
      "execution_count": null,
      "outputs": []
    },
    {
      "cell_type": "markdown",
      "metadata": {
        "id": "SkAhq67LFg35"
      },
      "source": [
        "## Database Connection Class\n",
        "Create a MongoDB connection manager:"
      ]
    },
    {
      "cell_type": "code",
      "execution_count": 18,
      "metadata": {
        "id": "4jlXVxyLFg35"
      },
      "outputs": [],
      "source": [
        "mongoclient = MongoClient(MONGODB_URI, appname=\"devrel.showcase.multi-smolagents\")\n",
        "db = mongoclient.warehouse"
      ]
    },
    {
      "cell_type": "markdown",
      "metadata": {
        "id": "v6c7GvdFFg35"
      },
      "source": [
        "## Agent Tools Defenitions\n",
        "\n",
        "Our system implements three core tools for warehouse management:\n",
        "\n",
        "   \n",
        "Workflow:\n",
        "```\n",
        "Inventory Management Tools:\n",
        "+-------------------+-------------------+\n",
        "| Tool              | Description       |\n",
        "+-------------------+-------------------+\n",
        "| check_stock       | Queries stock     |\n",
        "|                   | levels            |\n",
        "+-------------------+-------------------+\n",
        "| update_stock      | Adjusts inventory |\n",
        "|                   | quantities        |\n",
        "+-------------------+-------------------+\n",
        "\n",
        "Order Management Tools:\n",
        "+-------------------+-------------------+\n",
        "| Tool              | Description       |\n",
        "+-------------------+-------------------+\n",
        "| create_order      | Creates new order |\n",
        "|                   | document          |\n",
        "+-------------------+-------------------+\n",
        "\n",
        "Delivery Management Tools:\n",
        "+-------------------+-------------------+\n",
        "| Tool              | Description       |\n",
        "+-------------------+-------------------+\n",
        "| update_delivery   | Updates delivery  |\n",
        "| _status           | status            |\n",
        "+-------------------+-------------------+\n",
        "\n",
        "Decision Flow:\n",
        "+-------------------+-------------------+\n",
        "| Step              | Action            |\n",
        "+-------------------+-------------------+\n",
        "| 1. Create Order   | Uses `create_order`|\n",
        "|                   | tool to create    |\n",
        "|                   | order document    |\n",
        "+-------------------+-------------------+\n",
        "| 2. Update Stock   | Uses `update_stock`|\n",
        "|                   | tool to adjust    |\n",
        "|                   | inventory         |\n",
        "+-------------------+-------------------+\n",
        "| 3. Update Delivery| Uses `update_delivery`|\n",
        "| Status            | _status tool to   |\n",
        "|                   | set delivery      |\n",
        "|                   | status to         |\n",
        "|                   | `in_transit`      |\n",
        "+-------------------+-------------------+\n",
        "```\n",
        "\n",
        "\n",
        "Define tools for each agent type:"
      ]
    },
    {
      "cell_type": "code",
      "execution_count": 34,
      "metadata": {
        "id": "pHP00zJ3Fg35"
      },
      "outputs": [],
      "source": [
        "\n",
        "\n",
        "@tool\n",
        "def check_stock(product_id: str) -> Dict:\n",
        "    \"\"\"Query product stock level.\n",
        "\n",
        "    Args:\n",
        "        product_id: Product identifier\n",
        "\n",
        "    Returns:\n",
        "        Dict containing product details and quantity\n",
        "    \"\"\"\n",
        "    return db.products.find_one({\"_id\": product_id})\n",
        "\n",
        "@tool\n",
        "def update_stock(product_id: str, quantity: int) -> bool:\n",
        "    \"\"\"Update product stock quantity.\n",
        "\n",
        "    Args:\n",
        "        product_id: Product identifier\n",
        "        quantity: Amount to decrease from stock\n",
        "\n",
        "    Returns:\n",
        "        bool: Success status\n",
        "    \"\"\"\n",
        "    result = db.products.update_one(\n",
        "        {\"_id\": product_id},\n",
        "        {\"$inc\": {\"quantity\": -quantity}}\n",
        "    )\n",
        "    return result.modified_count > 0"
      ]
    },
    {
      "cell_type": "code",
      "execution_count": 20,
      "metadata": {
        "id": "3E9KvGzfFg36"
      },
      "outputs": [],
      "source": [
        "\n",
        "@tool\n",
        "def create_order( products: any, address: str) -> str:\n",
        "    \"\"\"Create new order for all provided products.\n",
        "\n",
        "    Args:\n",
        "        products: List of products with quantities\n",
        "        address: Delivery address\n",
        "\n",
        "    Returns:\n",
        "        str: Order ID message\n",
        "    \"\"\"\n",
        "    order = {\n",
        "        \"products\": products,\n",
        "        \"status\": \"pending\",\n",
        "        \"delivery_address\": address,\n",
        "        \"created_at\": datetime.now()\n",
        "    }\n",
        "    result = db.orders.insert_one(order)\n",
        "    return f\"Successfully ordered : {str(result.inserted_id)}\""
      ]
    },
    {
      "cell_type": "code",
      "execution_count": 35,
      "metadata": {
        "id": "WPM0nC8MFg36"
      },
      "outputs": [],
      "source": [
        "\n",
        "from bson.objectid import ObjectId\n",
        "@tool\n",
        "def update_delivery_status(order_id: str, status: str) -> bool:\n",
        "    \"\"\"Update order delivery status to in_transit once a pending order is provided\n",
        "\n",
        "    Args:\n",
        "        order_id: Order identifier\n",
        "        status: New delivery status is being set to in_transit or delivered\n",
        "\n",
        "    Returns:\n",
        "        bool: Success status\n",
        "    \"\"\"\n",
        "    if status not in [\"pending\", \"in_transit\", \"delivered\", \"cancelled\"]:\n",
        "        raise ValueError(\"Invalid delivery status\")\n",
        "\n",
        "    result = db.orders.update_one(\n",
        "        {\"_id\":  ObjectId(order_id), \"status\": \"pending\"},\n",
        "        {\"$set\": {\"status\": status}}\n",
        "    )\n",
        "    return result.modified_count > 0"
      ]
    },
    {
      "cell_type": "markdown",
      "metadata": {
        "id": "MgHzBEHXFg36"
      },
      "source": [
        "## Main Order Management System\n",
        "\n",
        "This class implements a multi-agent architecture for order processing with the following components:\n",
        "\n",
        "- Inventory Agent: Handles stock checking and updates\n",
        "- Order Agent: Manages order creation and documentation\n",
        "- Delivery Agent: Controls order delivery status changes\n",
        "- Manager Agent: Orchestrates workflow between other agents\n",
        "\n",
        "The system follows this process flow:\n",
        "1. Create order documents for customer requests\n",
        "2. Verify and update product inventory levels\n",
        "3. Initialize delivery tracking status\n",
        "4. Coordinate agent interactions through the manager\n",
        "\n",
        "Key Features:\n",
        "- Asynchronous multi-agent coordination\n",
        "- Automated inventory management\n",
        "- Order status tracking\n",
        "- Delivery pipeline integration\n",
        "\n",
        "Define the main system class that orchestrates all agents:"
      ]
    },
    {
      "cell_type": "code",
      "execution_count": 36,
      "metadata": {
        "id": "T6DgDgheFg36"
      },
      "outputs": [],
      "source": [
        "class OrderManagementSystem:\n",
        "    \"\"\"Multi-agent order management system\"\"\"\n",
        "    def __init__(self, model_id: str = MODEL_ID):\n",
        "        self.model = LiteLLMModel(model_id=model_id)\n",
        "\n",
        "\n",
        "\n",
        "        # Create agents\n",
        "        self.inventory_agent = ToolCallingAgent(\n",
        "            tools=[check_stock, update_stock],\n",
        "            model=self.model,\n",
        "        )\n",
        "\n",
        "        self.order_agent = ToolCallingAgent(\n",
        "            tools=[create_order],\n",
        "            model=self.model,\n",
        "        )\n",
        "\n",
        "        self.delivery_agent = ToolCallingAgent(\n",
        "            tools=[update_delivery_status],\n",
        "            model=self.model,\n",
        "\n",
        "        )\n",
        "\n",
        "\n",
        "        # Create manager agent\n",
        "        self.manager = CodeAgent(\n",
        "            tools=[],\n",
        "            model=self.model,\n",
        "\n",
        "            additional_authorized_imports=[\"time\", \"json\"]\n",
        "        )\n",
        "\n",
        "    def process_order(self, orders: List[Dict]) -> str:\n",
        "        \"\"\"Process a set of orders.\n",
        "\n",
        "        Args:\n",
        "            orders: List of orders each has address and products\n",
        "\n",
        "        Returns:\n",
        "            str: Processing result\n",
        "        \"\"\"\n",
        "        return self.manager.run(\n",
        "            f\"Process the following  {orders} as well as substract the ordered items from inventory.\"\n",
        "            f\"to be delivered to relevant addresses\"\n",
        "        )"
      ]
    },
    {
      "cell_type": "markdown",
      "metadata": {
        "id": "DsZX6BooFg37"
      },
      "source": [
        "## Adding Sample Data\n",
        "\n",
        "To test our order management system, we need to populate the MongoDB database with sample product data. The following section shows how to add test products with their prices and quantities. You can modify the product details or add more items by following the same structure. Each product has a unique ID, name, price, and initial stock quantity.\n",
        "\n",
        "The sample data provides a representative mix of electronics products with varying price points and stock levels to demonstrate inventory tracking.\n",
        "\n",
        "To test the system, you might want to add some sample products to MongoDB:"
      ]
    },
    {
      "cell_type": "code",
      "execution_count": 37,
      "metadata": {
        "colab": {
          "base_uri": "https://localhost:8080/"
        },
        "id": "8jL1pM-pFg37",
        "outputId": "ca74e248-d7e5-4265-ac08-1d5c168e7aff"
      },
      "outputs": [
        {
          "output_type": "stream",
          "name": "stdout",
          "text": [
            "Sample products added successfully!\n"
          ]
        }
      ],
      "source": [
        "def add_sample_products():\n",
        "    db.products.delete_many({})\n",
        "    sample_products = [\n",
        "        {\"_id\": \"prod1\", \"name\": \"Laptop\", \"price\": 999.99, \"quantity\": 10},\n",
        "        {\"_id\": \"prod2\", \"name\": \"Smartphone\", \"price\": 599.99, \"quantity\": 15},\n",
        "        {\"_id\": \"prod3\", \"name\": \"Headphones\", \"price\": 99.99, \"quantity\": 30}\n",
        "    ]\n",
        "\n",
        "    db.products.insert_many(sample_products)\n",
        "    print(\"Sample products added successfully!\")\n",
        "\n",
        "# Uncomment to add sample products\n",
        "add_sample_products()"
      ]
    },
    {
      "cell_type": "markdown",
      "metadata": {
        "id": "MAiIKY8qFg37"
      },
      "source": [
        "## Testing the System\n",
        "\n",
        "Here's a markdown description of the test data approach:\n",
        "\n",
        "Testing Strategy Overview:\n",
        "1. We test with two different order scenarios:\n",
        "    - Multi-product order (laptop + smartphone)\n",
        "    - Single product order (headphones)\n",
        "\n",
        "Test Data Design:\n",
        "- Products represent common electronics at different price points\n",
        "- Order quantities are intentionally small to avoid depleting stock\n",
        "- Multiple delivery addresses to simulate real-world scenarios\n",
        "\n",
        "Alternative Test Examples:\n",
        "- Bulk order: Multiple units of same product\n",
        "- Mixed category order: Combination of high/low value items\n",
        "- Edge cases: Orders near stock limits\n",
        "- Invalid scenarios: Products with insufficient stock\n",
        "\n",
        "The test demonstrates:\n",
        "- Multi-product order processing\n",
        "- Stock level management\n",
        "- Delivery status updates\n",
        "- Address handling for different locations\n",
        "\n",
        "Let's test our system with a sample order:"
      ]
    },
    {
      "cell_type": "code",
      "execution_count": 38,
      "metadata": {
        "colab": {
          "base_uri": "https://localhost:8080/",
          "height": 832
        },
        "id": "0w__yqKlFg37",
        "outputId": "84f67ec9-1238-4721-b4d0-92486924e852"
      },
      "outputs": [
        {
          "output_type": "display_data",
          "data": {
            "text/plain": [
              "\u001b[38;2;212;183;2m╭─\u001b[0m\u001b[38;2;212;183;2m───────────────────────────────────────────────────\u001b[0m\u001b[38;2;212;183;2m \u001b[0m\u001b[1;38;2;212;183;2mNew run\u001b[0m\u001b[38;2;212;183;2m \u001b[0m\u001b[38;2;212;183;2m───────────────────────────────────────────────────\u001b[0m\u001b[38;2;212;183;2m─╮\u001b[0m\n",
              "\u001b[38;2;212;183;2m│\u001b[0m                                                                                                                 \u001b[38;2;212;183;2m│\u001b[0m\n",
              "\u001b[38;2;212;183;2m│\u001b[0m \u001b[1mProcess the following  [{'products': [{'product_id': 'prod1', 'quantity': 2}, {'product_id': 'prod2', \u001b[0m          \u001b[38;2;212;183;2m│\u001b[0m\n",
              "\u001b[38;2;212;183;2m│\u001b[0m \u001b[1m'quantity': 1}\\], 'address': '123 Main St'}, {'products': [{'product_id': 'prod3', 'quantity': 3}\\], 'address':\u001b[0m \u001b[38;2;212;183;2m│\u001b[0m\n",
              "\u001b[38;2;212;183;2m│\u001b[0m \u001b[1m'456 Elm St'}] as well as substract the ordered items from inventory.to be delivered to relevant addresses\u001b[0m      \u001b[38;2;212;183;2m│\u001b[0m\n",
              "\u001b[38;2;212;183;2m│\u001b[0m                                                                                                                 \u001b[38;2;212;183;2m│\u001b[0m\n",
              "\u001b[38;2;212;183;2m╰─\u001b[0m\u001b[38;2;212;183;2m LiteLLMModel - mistralai/Mixtral-8x7B-Instruct-v0.1 \u001b[0m\u001b[38;2;212;183;2m──────────────────────────────────────────────────────────\u001b[0m\u001b[38;2;212;183;2m─╯\u001b[0m\n"
            ],
            "text/html": [
              "<pre style=\"white-space:pre;overflow-x:auto;line-height:normal;font-family:Menlo,'DejaVu Sans Mono',consolas,'Courier New',monospace\"><span style=\"color: #d4b702; text-decoration-color: #d4b702\">╭──────────────────────────────────────────────────── </span><span style=\"color: #d4b702; text-decoration-color: #d4b702; font-weight: bold\">New run</span><span style=\"color: #d4b702; text-decoration-color: #d4b702\"> ────────────────────────────────────────────────────╮</span>\n",
              "<span style=\"color: #d4b702; text-decoration-color: #d4b702\">│</span>                                                                                                                 <span style=\"color: #d4b702; text-decoration-color: #d4b702\">│</span>\n",
              "<span style=\"color: #d4b702; text-decoration-color: #d4b702\">│</span> <span style=\"font-weight: bold\">Process the following  [{'products': [{'product_id': 'prod1', 'quantity': 2}, {'product_id': 'prod2', </span>          <span style=\"color: #d4b702; text-decoration-color: #d4b702\">│</span>\n",
              "<span style=\"color: #d4b702; text-decoration-color: #d4b702\">│</span> <span style=\"font-weight: bold\">'quantity': 1}\\], 'address': '123 Main St'}, {'products': [{'product_id': 'prod3', 'quantity': 3}\\], 'address':</span> <span style=\"color: #d4b702; text-decoration-color: #d4b702\">│</span>\n",
              "<span style=\"color: #d4b702; text-decoration-color: #d4b702\">│</span> <span style=\"font-weight: bold\">'456 Elm St'}] as well as substract the ordered items from inventory.to be delivered to relevant addresses</span>      <span style=\"color: #d4b702; text-decoration-color: #d4b702\">│</span>\n",
              "<span style=\"color: #d4b702; text-decoration-color: #d4b702\">│</span>                                                                                                                 <span style=\"color: #d4b702; text-decoration-color: #d4b702\">│</span>\n",
              "<span style=\"color: #d4b702; text-decoration-color: #d4b702\">╰─ LiteLLMModel - mistralai/Mixtral-8x7B-Instruct-v0.1 ───────────────────────────────────────────────────────────╯</span>\n",
              "</pre>\n"
            ]
          },
          "metadata": {}
        },
        {
          "output_type": "display_data",
          "data": {
            "text/plain": [
              "\u001b[38;2;212;183;2m━━━━━━━━━━━━━━━━━━━━━━━━━━━━━━━━━━━━━━━━━━━━━━━━━━━━━ \u001b[0m\u001b[1mStep \u001b[0m\u001b[1;36m1\u001b[0m\u001b[38;2;212;183;2m ━━━━━━━━━━━━━━━━━━━━━━━━━━━━━━━━━━━━━━━━━━━━━━━━━━━━━━\u001b[0m\n"
            ],
            "text/html": [
              "<pre style=\"white-space:pre;overflow-x:auto;line-height:normal;font-family:Menlo,'DejaVu Sans Mono',consolas,'Courier New',monospace\"><span style=\"color: #d4b702; text-decoration-color: #d4b702\">━━━━━━━━━━━━━━━━━━━━━━━━━━━━━━━━━━━━━━━━━━━━━━━━━━━━━ </span><span style=\"font-weight: bold\">Step </span><span style=\"color: #008080; text-decoration-color: #008080; font-weight: bold\">1</span><span style=\"color: #d4b702; text-decoration-color: #d4b702\"> ━━━━━━━━━━━━━━━━━━━━━━━━━━━━━━━━━━━━━━━━━━━━━━━━━━━━━━</span>\n",
              "</pre>\n"
            ]
          },
          "metadata": {}
        },
        {
          "output_type": "stream",
          "name": "stdout",
          "text": [
            "\n",
            "\u001b[1;31mProvider List: https://docs.litellm.ai/docs/providers\u001b[0m\n",
            "\n"
          ]
        },
        {
          "output_type": "display_data",
          "data": {
            "text/plain": [
              "\u001b[1;31mError in generating model output:\u001b[0m\n",
              "\u001b[1;31mlitellm.BadRequestError: LLM Provider NOT provided. Pass in the LLM provider you are trying to call. You passed \u001b[0m\n",
              "\u001b[1;33mmodel\u001b[0m\u001b[1;31m=\u001b[0m\u001b[1;35mmistralai\u001b[0m\u001b[1;31m/Mixtral-8x7B-Instruct-v0.\u001b[0m\u001b[1;36m1\u001b[0m\n",
              "\u001b[1;31m Pass model as E.g. For \u001b[0m\u001b[32m'Huggingface'\u001b[0m\u001b[1;31m inference endpoints pass in `\u001b[0m\u001b[1;35mcompletion\u001b[0m\u001b[1;31m(\u001b[0m\u001b[1;33mmodel\u001b[0m\u001b[1;31m=\u001b[0m\u001b[32m'huggingface/starcoder'\u001b[0m\u001b[1;31m,..\u001b[0m\u001b[1;31m)\u001b[0m\u001b[1;31m` \u001b[0m\n",
              "\u001b[1;31mLearn more: \u001b[0m\u001b[4;94mhttps://docs.litellm.ai/docs/providers\u001b[0m\n"
            ],
            "text/html": [
              "<pre style=\"white-space:pre;overflow-x:auto;line-height:normal;font-family:Menlo,'DejaVu Sans Mono',consolas,'Courier New',monospace\"><span style=\"color: #800000; text-decoration-color: #800000; font-weight: bold\">Error in generating model output:</span>\n",
              "<span style=\"color: #800000; text-decoration-color: #800000; font-weight: bold\">litellm.BadRequestError: LLM Provider NOT provided. Pass in the LLM provider you are trying to call. You passed </span>\n",
              "<span style=\"color: #808000; text-decoration-color: #808000; font-weight: bold\">model</span><span style=\"color: #800000; text-decoration-color: #800000; font-weight: bold\">=</span><span style=\"color: #800080; text-decoration-color: #800080; font-weight: bold\">mistralai</span><span style=\"color: #800000; text-decoration-color: #800000; font-weight: bold\">/Mixtral-8x7B-Instruct-v0.</span><span style=\"color: #008080; text-decoration-color: #008080; font-weight: bold\">1</span>\n",
              "<span style=\"color: #800000; text-decoration-color: #800000; font-weight: bold\"> Pass model as E.g. For </span><span style=\"color: #008000; text-decoration-color: #008000\">'Huggingface'</span><span style=\"color: #800000; text-decoration-color: #800000; font-weight: bold\"> inference endpoints pass in `</span><span style=\"color: #800080; text-decoration-color: #800080; font-weight: bold\">completion</span><span style=\"color: #800000; text-decoration-color: #800000; font-weight: bold\">(</span><span style=\"color: #808000; text-decoration-color: #808000; font-weight: bold\">model</span><span style=\"color: #800000; text-decoration-color: #800000; font-weight: bold\">=</span><span style=\"color: #008000; text-decoration-color: #008000\">'huggingface/starcoder'</span><span style=\"color: #800000; text-decoration-color: #800000; font-weight: bold\">,..)` </span>\n",
              "<span style=\"color: #800000; text-decoration-color: #800000; font-weight: bold\">Learn more: </span><span style=\"color: #0000ff; text-decoration-color: #0000ff; text-decoration: underline\">https://docs.litellm.ai/docs/providers</span>\n",
              "</pre>\n"
            ]
          },
          "metadata": {}
        },
        {
          "output_type": "display_data",
          "data": {
            "text/plain": [
              "\u001b[2m[Step 1: Duration 0.03 seconds]\u001b[0m\n"
            ],
            "text/html": [
              "<pre style=\"white-space:pre;overflow-x:auto;line-height:normal;font-family:Menlo,'DejaVu Sans Mono',consolas,'Courier New',monospace\"><span style=\"color: #7f7f7f; text-decoration-color: #7f7f7f\">[Step 1: Duration 0.03 seconds]</span>\n",
              "</pre>\n"
            ]
          },
          "metadata": {}
        },
        {
          "output_type": "error",
          "ename": "AgentGenerationError",
          "evalue": "Error in generating model output:\nlitellm.BadRequestError: LLM Provider NOT provided. Pass in the LLM provider you are trying to call. You passed model=mistralai/Mixtral-8x7B-Instruct-v0.1\n Pass model as E.g. For 'Huggingface' inference endpoints pass in `completion(model='huggingface/starcoder',..)` Learn more: https://docs.litellm.ai/docs/providers",
          "traceback": [
            "\u001b[0;31m---------------------------------------------------------------------------\u001b[0m",
            "\u001b[0;31mBadRequestError\u001b[0m                           Traceback (most recent call last)",
            "\u001b[0;32m/usr/local/lib/python3.11/dist-packages/smolagents/agents.py\u001b[0m in \u001b[0;36m_step_stream\u001b[0;34m(self, memory_step)\u001b[0m\n\u001b[1;32m   1495\u001b[0m             \u001b[0;32melse\u001b[0m\u001b[0;34m:\u001b[0m\u001b[0;34m\u001b[0m\u001b[0;34m\u001b[0m\u001b[0m\n\u001b[0;32m-> 1496\u001b[0;31m                 chat_message: ChatMessage = self.model.generate(\n\u001b[0m\u001b[1;32m   1497\u001b[0m                     \u001b[0minput_messages\u001b[0m\u001b[0;34m,\u001b[0m\u001b[0;34m\u001b[0m\u001b[0;34m\u001b[0m\u001b[0m\n",
            "\u001b[0;32m/usr/local/lib/python3.11/dist-packages/smolagents/models.py\u001b[0m in \u001b[0;36mgenerate\u001b[0;34m(self, messages, stop_sequences, response_format, tools_to_call_from, **kwargs)\u001b[0m\n\u001b[1;32m   1043\u001b[0m \u001b[0;34m\u001b[0m\u001b[0m\n\u001b[0;32m-> 1044\u001b[0;31m         \u001b[0mresponse\u001b[0m \u001b[0;34m=\u001b[0m \u001b[0mself\u001b[0m\u001b[0;34m.\u001b[0m\u001b[0mclient\u001b[0m\u001b[0;34m.\u001b[0m\u001b[0mcompletion\u001b[0m\u001b[0;34m(\u001b[0m\u001b[0;34m**\u001b[0m\u001b[0mcompletion_kwargs\u001b[0m\u001b[0;34m)\u001b[0m\u001b[0;34m\u001b[0m\u001b[0;34m\u001b[0m\u001b[0m\n\u001b[0m\u001b[1;32m   1045\u001b[0m \u001b[0;34m\u001b[0m\u001b[0m\n",
            "\u001b[0;32m/usr/local/lib/python3.11/dist-packages/litellm/utils.py\u001b[0m in \u001b[0;36mwrapper\u001b[0;34m(*args, **kwargs)\u001b[0m\n\u001b[1;32m   1282\u001b[0m                 )  # DO NOT MAKE THREADED - router retry fallback relies on this!\n\u001b[0;32m-> 1283\u001b[0;31m             \u001b[0;32mraise\u001b[0m \u001b[0me\u001b[0m\u001b[0;34m\u001b[0m\u001b[0;34m\u001b[0m\u001b[0m\n\u001b[0m\u001b[1;32m   1284\u001b[0m \u001b[0;34m\u001b[0m\u001b[0m\n",
            "\u001b[0;32m/usr/local/lib/python3.11/dist-packages/litellm/utils.py\u001b[0m in \u001b[0;36mwrapper\u001b[0;34m(*args, **kwargs)\u001b[0m\n\u001b[1;32m   1160\u001b[0m             \u001b[0;31m# MODEL CALL\u001b[0m\u001b[0;34m\u001b[0m\u001b[0;34m\u001b[0m\u001b[0m\n\u001b[0;32m-> 1161\u001b[0;31m             \u001b[0mresult\u001b[0m \u001b[0;34m=\u001b[0m \u001b[0moriginal_function\u001b[0m\u001b[0;34m(\u001b[0m\u001b[0;34m*\u001b[0m\u001b[0margs\u001b[0m\u001b[0;34m,\u001b[0m \u001b[0;34m**\u001b[0m\u001b[0mkwargs\u001b[0m\u001b[0;34m)\u001b[0m\u001b[0;34m\u001b[0m\u001b[0;34m\u001b[0m\u001b[0m\n\u001b[0m\u001b[1;32m   1162\u001b[0m             \u001b[0mend_time\u001b[0m \u001b[0;34m=\u001b[0m \u001b[0mdatetime\u001b[0m\u001b[0;34m.\u001b[0m\u001b[0mdatetime\u001b[0m\u001b[0;34m.\u001b[0m\u001b[0mnow\u001b[0m\u001b[0;34m(\u001b[0m\u001b[0;34m)\u001b[0m\u001b[0;34m\u001b[0m\u001b[0;34m\u001b[0m\u001b[0m\n",
            "\u001b[0;32m/usr/local/lib/python3.11/dist-packages/litellm/main.py\u001b[0m in \u001b[0;36mcompletion\u001b[0;34m(model, messages, timeout, temperature, top_p, n, stream, stream_options, stop, max_completion_tokens, max_tokens, modalities, prediction, audio, presence_penalty, frequency_penalty, logit_bias, user, reasoning_effort, response_format, seed, tools, tool_choice, logprobs, top_logprobs, parallel_tool_calls, web_search_options, deployment_id, extra_headers, functions, function_call, base_url, api_version, api_key, model_list, thinking, **kwargs)\u001b[0m\n\u001b[1;32m   3240\u001b[0m         \u001b[0;31m## Map to OpenAI Exception\u001b[0m\u001b[0;34m\u001b[0m\u001b[0;34m\u001b[0m\u001b[0m\n\u001b[0;32m-> 3241\u001b[0;31m         raise exception_type(\n\u001b[0m\u001b[1;32m   3242\u001b[0m             \u001b[0mmodel\u001b[0m\u001b[0;34m=\u001b[0m\u001b[0mmodel\u001b[0m\u001b[0;34m,\u001b[0m\u001b[0;34m\u001b[0m\u001b[0;34m\u001b[0m\u001b[0m\n",
            "\u001b[0;32m/usr/local/lib/python3.11/dist-packages/litellm/main.py\u001b[0m in \u001b[0;36mcompletion\u001b[0;34m(model, messages, timeout, temperature, top_p, n, stream, stream_options, stop, max_completion_tokens, max_tokens, modalities, prediction, audio, presence_penalty, frequency_penalty, logit_bias, user, reasoning_effort, response_format, seed, tools, tool_choice, logprobs, top_logprobs, parallel_tool_calls, web_search_options, deployment_id, extra_headers, functions, function_call, base_url, api_version, api_key, model_list, thinking, **kwargs)\u001b[0m\n\u001b[1;32m   1038\u001b[0m             \u001b[0mcustom_llm_provider\u001b[0m \u001b[0;34m=\u001b[0m \u001b[0;34m\"azure\"\u001b[0m\u001b[0;34m\u001b[0m\u001b[0;34m\u001b[0m\u001b[0m\n\u001b[0;32m-> 1039\u001b[0;31m         model, custom_llm_provider, dynamic_api_key, api_base = get_llm_provider(\n\u001b[0m\u001b[1;32m   1040\u001b[0m             \u001b[0mmodel\u001b[0m\u001b[0;34m=\u001b[0m\u001b[0mmodel\u001b[0m\u001b[0;34m,\u001b[0m\u001b[0;34m\u001b[0m\u001b[0;34m\u001b[0m\u001b[0m\n",
            "\u001b[0;32m/usr/local/lib/python3.11/dist-packages/litellm/litellm_core_utils/get_llm_provider_logic.py\u001b[0m in \u001b[0;36mget_llm_provider\u001b[0;34m(model, custom_llm_provider, api_base, api_key, litellm_params)\u001b[0m\n\u001b[1;32m    372\u001b[0m         \u001b[0;32mif\u001b[0m \u001b[0misinstance\u001b[0m\u001b[0;34m(\u001b[0m\u001b[0me\u001b[0m\u001b[0;34m,\u001b[0m \u001b[0mlitellm\u001b[0m\u001b[0;34m.\u001b[0m\u001b[0mexceptions\u001b[0m\u001b[0;34m.\u001b[0m\u001b[0mBadRequestError\u001b[0m\u001b[0;34m)\u001b[0m\u001b[0;34m:\u001b[0m\u001b[0;34m\u001b[0m\u001b[0;34m\u001b[0m\u001b[0m\n\u001b[0;32m--> 373\u001b[0;31m             \u001b[0;32mraise\u001b[0m \u001b[0me\u001b[0m\u001b[0;34m\u001b[0m\u001b[0;34m\u001b[0m\u001b[0m\n\u001b[0m\u001b[1;32m    374\u001b[0m         \u001b[0;32melse\u001b[0m\u001b[0;34m:\u001b[0m\u001b[0;34m\u001b[0m\u001b[0;34m\u001b[0m\u001b[0m\n",
            "\u001b[0;32m/usr/local/lib/python3.11/dist-packages/litellm/litellm_core_utils/get_llm_provider_logic.py\u001b[0m in \u001b[0;36mget_llm_provider\u001b[0;34m(model, custom_llm_provider, api_base, api_key, litellm_params)\u001b[0m\n\u001b[1;32m    349\u001b[0m             \u001b[0;31m# maps to openai.NotFoundError, this is raised when openai does not recognize the llm\u001b[0m\u001b[0;34m\u001b[0m\u001b[0;34m\u001b[0m\u001b[0m\n\u001b[0;32m--> 350\u001b[0;31m             raise litellm.exceptions.BadRequestError(  # type: ignore\n\u001b[0m\u001b[1;32m    351\u001b[0m                 \u001b[0mmessage\u001b[0m\u001b[0;34m=\u001b[0m\u001b[0merror_str\u001b[0m\u001b[0;34m,\u001b[0m\u001b[0;34m\u001b[0m\u001b[0;34m\u001b[0m\u001b[0m\n",
            "\u001b[0;31mBadRequestError\u001b[0m: litellm.BadRequestError: LLM Provider NOT provided. Pass in the LLM provider you are trying to call. You passed model=mistralai/Mixtral-8x7B-Instruct-v0.1\n Pass model as E.g. For 'Huggingface' inference endpoints pass in `completion(model='huggingface/starcoder',..)` Learn more: https://docs.litellm.ai/docs/providers",
            "\nThe above exception was the direct cause of the following exception:\n",
            "\u001b[0;31mAgentGenerationError\u001b[0m                      Traceback (most recent call last)",
            "\u001b[0;32m<ipython-input-38-29c673340a0f>\u001b[0m in \u001b[0;36m<cell line: 0>\u001b[0;34m()\u001b[0m\n\u001b[1;32m     20\u001b[0m \u001b[0;34m\u001b[0m\u001b[0m\n\u001b[1;32m     21\u001b[0m \u001b[0;31m# Process order\u001b[0m\u001b[0;34m\u001b[0m\u001b[0;34m\u001b[0m\u001b[0m\n\u001b[0;32m---> 22\u001b[0;31m result = system.process_order(\n\u001b[0m\u001b[1;32m     23\u001b[0m     \u001b[0morders\u001b[0m\u001b[0;34m=\u001b[0m\u001b[0mtest_orders\u001b[0m\u001b[0;34m\u001b[0m\u001b[0;34m\u001b[0m\u001b[0m\n\u001b[1;32m     24\u001b[0m )\n",
            "\u001b[0;32m<ipython-input-36-b92cb1540034>\u001b[0m in \u001b[0;36mprocess_order\u001b[0;34m(self, orders)\u001b[0m\n\u001b[1;32m     41\u001b[0m             \u001b[0mstr\u001b[0m\u001b[0;34m:\u001b[0m \u001b[0mProcessing\u001b[0m \u001b[0mresult\u001b[0m\u001b[0;34m\u001b[0m\u001b[0;34m\u001b[0m\u001b[0m\n\u001b[1;32m     42\u001b[0m         \"\"\"\n\u001b[0;32m---> 43\u001b[0;31m         return self.manager.run(\n\u001b[0m\u001b[1;32m     44\u001b[0m             \u001b[0;34mf\"Process the following  {orders} as well as substract the ordered items from inventory.\"\u001b[0m\u001b[0;34m\u001b[0m\u001b[0;34m\u001b[0m\u001b[0m\n\u001b[1;32m     45\u001b[0m             \u001b[0;34mf\"to be delivered to relevant addresses\"\u001b[0m\u001b[0;34m\u001b[0m\u001b[0;34m\u001b[0m\u001b[0m\n",
            "\u001b[0;32m/usr/local/lib/python3.11/dist-packages/smolagents/agents.py\u001b[0m in \u001b[0;36mrun\u001b[0;34m(self, task, stream, reset, images, additional_args, max_steps)\u001b[0m\n\u001b[1;32m    397\u001b[0m         \u001b[0;31m# Outputs are returned only at the end. We only look at the last step.\u001b[0m\u001b[0;34m\u001b[0m\u001b[0;34m\u001b[0m\u001b[0m\n\u001b[1;32m    398\u001b[0m \u001b[0;34m\u001b[0m\u001b[0m\n\u001b[0;32m--> 399\u001b[0;31m         \u001b[0msteps\u001b[0m \u001b[0;34m=\u001b[0m \u001b[0mlist\u001b[0m\u001b[0;34m(\u001b[0m\u001b[0mself\u001b[0m\u001b[0;34m.\u001b[0m\u001b[0m_run_stream\u001b[0m\u001b[0;34m(\u001b[0m\u001b[0mtask\u001b[0m\u001b[0;34m=\u001b[0m\u001b[0mself\u001b[0m\u001b[0;34m.\u001b[0m\u001b[0mtask\u001b[0m\u001b[0;34m,\u001b[0m \u001b[0mmax_steps\u001b[0m\u001b[0;34m=\u001b[0m\u001b[0mmax_steps\u001b[0m\u001b[0;34m,\u001b[0m \u001b[0mimages\u001b[0m\u001b[0;34m=\u001b[0m\u001b[0mimages\u001b[0m\u001b[0;34m)\u001b[0m\u001b[0;34m)\u001b[0m\u001b[0;34m\u001b[0m\u001b[0;34m\u001b[0m\u001b[0m\n\u001b[0m\u001b[1;32m    400\u001b[0m         \u001b[0;32massert\u001b[0m \u001b[0misinstance\u001b[0m\u001b[0;34m(\u001b[0m\u001b[0msteps\u001b[0m\u001b[0;34m[\u001b[0m\u001b[0;34m-\u001b[0m\u001b[0;36m1\u001b[0m\u001b[0;34m]\u001b[0m\u001b[0;34m,\u001b[0m \u001b[0mFinalAnswerStep\u001b[0m\u001b[0;34m)\u001b[0m\u001b[0;34m\u001b[0m\u001b[0;34m\u001b[0m\u001b[0m\n\u001b[1;32m    401\u001b[0m         \u001b[0moutput\u001b[0m \u001b[0;34m=\u001b[0m \u001b[0msteps\u001b[0m\u001b[0;34m[\u001b[0m\u001b[0;34m-\u001b[0m\u001b[0;36m1\u001b[0m\u001b[0;34m]\u001b[0m\u001b[0;34m.\u001b[0m\u001b[0moutput\u001b[0m\u001b[0;34m\u001b[0m\u001b[0;34m\u001b[0m\u001b[0m\n",
            "\u001b[0;32m/usr/local/lib/python3.11/dist-packages/smolagents/agents.py\u001b[0m in \u001b[0;36m_run_stream\u001b[0;34m(self, task, max_steps, images)\u001b[0m\n\u001b[1;32m    476\u001b[0m             \u001b[0;32mexcept\u001b[0m \u001b[0mAgentGenerationError\u001b[0m \u001b[0;32mas\u001b[0m \u001b[0me\u001b[0m\u001b[0;34m:\u001b[0m\u001b[0;34m\u001b[0m\u001b[0;34m\u001b[0m\u001b[0m\n\u001b[1;32m    477\u001b[0m                 \u001b[0;31m# Agent generation errors are not caused by a Model error but an implementation error: so we should raise them and exit.\u001b[0m\u001b[0;34m\u001b[0m\u001b[0;34m\u001b[0m\u001b[0m\n\u001b[0;32m--> 478\u001b[0;31m                 \u001b[0;32mraise\u001b[0m \u001b[0me\u001b[0m\u001b[0;34m\u001b[0m\u001b[0;34m\u001b[0m\u001b[0m\n\u001b[0m\u001b[1;32m    479\u001b[0m             \u001b[0;32mexcept\u001b[0m \u001b[0mAgentError\u001b[0m \u001b[0;32mas\u001b[0m \u001b[0me\u001b[0m\u001b[0;34m:\u001b[0m\u001b[0;34m\u001b[0m\u001b[0;34m\u001b[0m\u001b[0m\n\u001b[1;32m    480\u001b[0m                 \u001b[0;31m# Other AgentError types are caused by the Model, so we should log them and iterate.\u001b[0m\u001b[0;34m\u001b[0m\u001b[0;34m\u001b[0m\u001b[0m\n",
            "\u001b[0;32m/usr/local/lib/python3.11/dist-packages/smolagents/agents.py\u001b[0m in \u001b[0;36m_run_stream\u001b[0;34m(self, task, max_steps, images)\u001b[0m\n\u001b[1;32m    471\u001b[0m             )\n\u001b[1;32m    472\u001b[0m             \u001b[0;32mtry\u001b[0m\u001b[0;34m:\u001b[0m\u001b[0;34m\u001b[0m\u001b[0;34m\u001b[0m\u001b[0m\n\u001b[0;32m--> 473\u001b[0;31m                 \u001b[0;32mfor\u001b[0m \u001b[0mel\u001b[0m \u001b[0;32min\u001b[0m \u001b[0mself\u001b[0m\u001b[0;34m.\u001b[0m\u001b[0m_execute_step\u001b[0m\u001b[0;34m(\u001b[0m\u001b[0maction_step\u001b[0m\u001b[0;34m)\u001b[0m\u001b[0;34m:\u001b[0m\u001b[0;34m\u001b[0m\u001b[0;34m\u001b[0m\u001b[0m\n\u001b[0m\u001b[1;32m    474\u001b[0m                     \u001b[0;32myield\u001b[0m \u001b[0mel\u001b[0m\u001b[0;34m\u001b[0m\u001b[0;34m\u001b[0m\u001b[0m\n\u001b[1;32m    475\u001b[0m                 \u001b[0mfinal_answer\u001b[0m \u001b[0;34m=\u001b[0m \u001b[0mel\u001b[0m\u001b[0;34m\u001b[0m\u001b[0;34m\u001b[0m\u001b[0m\n",
            "\u001b[0;32m/usr/local/lib/python3.11/dist-packages/smolagents/agents.py\u001b[0m in \u001b[0;36m_execute_step\u001b[0;34m(self, memory_step)\u001b[0m\n\u001b[1;32m    493\u001b[0m     \u001b[0;32mdef\u001b[0m \u001b[0m_execute_step\u001b[0m\u001b[0;34m(\u001b[0m\u001b[0mself\u001b[0m\u001b[0;34m,\u001b[0m \u001b[0mmemory_step\u001b[0m\u001b[0;34m:\u001b[0m \u001b[0mActionStep\u001b[0m\u001b[0;34m)\u001b[0m \u001b[0;34m->\u001b[0m \u001b[0mGenerator\u001b[0m\u001b[0;34m[\u001b[0m\u001b[0mChatMessageStreamDelta\u001b[0m \u001b[0;34m|\u001b[0m \u001b[0mFinalOutput\u001b[0m\u001b[0;34m]\u001b[0m\u001b[0;34m:\u001b[0m\u001b[0;34m\u001b[0m\u001b[0;34m\u001b[0m\u001b[0m\n\u001b[1;32m    494\u001b[0m         \u001b[0mself\u001b[0m\u001b[0;34m.\u001b[0m\u001b[0mlogger\u001b[0m\u001b[0;34m.\u001b[0m\u001b[0mlog_rule\u001b[0m\u001b[0;34m(\u001b[0m\u001b[0;34mf\"Step {self.step_number}\"\u001b[0m\u001b[0;34m,\u001b[0m \u001b[0mlevel\u001b[0m\u001b[0;34m=\u001b[0m\u001b[0mLogLevel\u001b[0m\u001b[0;34m.\u001b[0m\u001b[0mINFO\u001b[0m\u001b[0;34m)\u001b[0m\u001b[0;34m\u001b[0m\u001b[0;34m\u001b[0m\u001b[0m\n\u001b[0;32m--> 495\u001b[0;31m         \u001b[0;32mfor\u001b[0m \u001b[0mel\u001b[0m \u001b[0;32min\u001b[0m \u001b[0mself\u001b[0m\u001b[0;34m.\u001b[0m\u001b[0m_step_stream\u001b[0m\u001b[0;34m(\u001b[0m\u001b[0mmemory_step\u001b[0m\u001b[0;34m)\u001b[0m\u001b[0;34m:\u001b[0m\u001b[0;34m\u001b[0m\u001b[0;34m\u001b[0m\u001b[0m\n\u001b[0m\u001b[1;32m    496\u001b[0m             \u001b[0mfinal_answer\u001b[0m \u001b[0;34m=\u001b[0m \u001b[0mel\u001b[0m\u001b[0;34m\u001b[0m\u001b[0;34m\u001b[0m\u001b[0m\n\u001b[1;32m    497\u001b[0m             \u001b[0;32mif\u001b[0m \u001b[0misinstance\u001b[0m\u001b[0;34m(\u001b[0m\u001b[0mel\u001b[0m\u001b[0;34m,\u001b[0m \u001b[0mChatMessageStreamDelta\u001b[0m\u001b[0;34m)\u001b[0m\u001b[0;34m:\u001b[0m\u001b[0;34m\u001b[0m\u001b[0;34m\u001b[0m\u001b[0m\n",
            "\u001b[0;32m/usr/local/lib/python3.11/dist-packages/smolagents/agents.py\u001b[0m in \u001b[0;36m_step_stream\u001b[0;34m(self, memory_step)\u001b[0m\n\u001b[1;32m   1516\u001b[0m             \u001b[0mmemory_step\u001b[0m\u001b[0;34m.\u001b[0m\u001b[0mmodel_output\u001b[0m \u001b[0;34m=\u001b[0m \u001b[0moutput_text\u001b[0m\u001b[0;34m\u001b[0m\u001b[0;34m\u001b[0m\u001b[0m\n\u001b[1;32m   1517\u001b[0m         \u001b[0;32mexcept\u001b[0m \u001b[0mException\u001b[0m \u001b[0;32mas\u001b[0m \u001b[0me\u001b[0m\u001b[0;34m:\u001b[0m\u001b[0;34m\u001b[0m\u001b[0;34m\u001b[0m\u001b[0m\n\u001b[0;32m-> 1518\u001b[0;31m             \u001b[0;32mraise\u001b[0m \u001b[0mAgentGenerationError\u001b[0m\u001b[0;34m(\u001b[0m\u001b[0;34mf\"Error in generating model output:\\n{e}\"\u001b[0m\u001b[0;34m,\u001b[0m \u001b[0mself\u001b[0m\u001b[0;34m.\u001b[0m\u001b[0mlogger\u001b[0m\u001b[0;34m)\u001b[0m \u001b[0;32mfrom\u001b[0m \u001b[0me\u001b[0m\u001b[0;34m\u001b[0m\u001b[0;34m\u001b[0m\u001b[0m\n\u001b[0m\u001b[1;32m   1519\u001b[0m \u001b[0;34m\u001b[0m\u001b[0m\n\u001b[1;32m   1520\u001b[0m         \u001b[0;31m### Parse output ###\u001b[0m\u001b[0;34m\u001b[0m\u001b[0;34m\u001b[0m\u001b[0m\n",
            "\u001b[0;31mAgentGenerationError\u001b[0m: Error in generating model output:\nlitellm.BadRequestError: LLM Provider NOT provided. Pass in the LLM provider you are trying to call. You passed model=mistralai/Mixtral-8x7B-Instruct-v0.1\n Pass model as E.g. For 'Huggingface' inference endpoints pass in `completion(model='huggingface/starcoder',..)` Learn more: https://docs.litellm.ai/docs/providers"
          ]
        }
      ],
      "source": [
        "# Initialize system\n",
        "system = OrderManagementSystem()\n",
        "\n",
        "# Create test orders\n",
        "test_orders = [\n",
        "    {\n",
        "        \"products\": [\n",
        "            {\"product_id\": \"prod1\", \"quantity\": 2},\n",
        "            {\"product_id\": \"prod2\", \"quantity\": 1}\n",
        "        ],\n",
        "        \"address\": \"123 Main St\"\n",
        "    },\n",
        "    {\n",
        "        \"products\": [\n",
        "            {\"product_id\": \"prod3\", \"quantity\": 3}\n",
        "        ],\n",
        "        \"address\": \"456 Elm St\"\n",
        "    }\n",
        "]\n",
        "\n",
        "# Process order\n",
        "result = system.process_order(\n",
        "    orders=test_orders\n",
        ")\n",
        "\n",
        "print(\"Orders processing result:\", result)"
      ]
    },
    {
      "cell_type": "markdown",
      "metadata": {
        "id": "e9dpUbqYuN3Q"
      },
      "source": [
        "## System Output Analysis\n",
        "\n",
        "The system successfully completes these key actions:\n",
        "\n",
        "1. Order Creation:\n",
        "    - Multiple orders processed in parallel\n",
        "    - Order IDs generated and stored in MongoDB\n",
        "    - Products and delivery addresses properly linked\n",
        "\n",
        "2. Inventory Management:\n",
        "    - Stock levels checked before order processing\n",
        "    - Quantities decremented after order confirmation\n",
        "    - Inventory updates reflected in MongoDB\n",
        "\n",
        "3. Delivery Status:\n",
        "    - Initial status set to \"pending\"\n",
        "    - Updated to \"in_transit\" after processing\n",
        "    - Status changes tracked in order documents\n",
        "\n",
        "4. Data Consistency:\n",
        "    - All MongoDB operations completed atomically\n",
        "    - Order details preserved accurately\n",
        "    - Stock levels maintained correctly\n",
        "\n",
        "When running the system, you might notice the agent attempting to interpret text output as Python code. This is an expected behavior of the CodeAgent as it tries to understand and process responses. After several attempts (max_iterations=10), it will stop if unsuccessful.\n",
        "\n",
        "Example agent behavior:\n",
        "1. Receives text output from order creation\n",
        "2. Attempts to parse it as code\n",
        "3. Retries with different interpretations\n",
        "4. Eventually completes the workflow\n",
        "\n",
        "The multi-agent system demonstrates resilient operation through its error handling\n",
        "and self-correction mechanisms. While initial attempts may produce error logs,\n",
        "the agent successfully adapts through iterations. Most importantly, the final\n",
        "state shows both successful order processing and accurate stock level updates,\n",
        "maintaining data consistency despite any intermediate errors.\n",
        "\n",
        "This behavior is by design and doesn't affect the system's core functionality. The actual order processing, inventory updates, and delivery status changes are completed successfully through the MongoDB operations."
      ]
    },
    {
      "cell_type": "markdown",
      "metadata": {
        "id": "Vo4z19BSuN3Q"
      },
      "source": [
        "## Conclusions\n",
        "In this notebook, we have successfully implemented a multi-agent order management system using smolagents and MongoDB. We defined various tools for managing inventory, creating orders, and updating delivery statuses. We also created a main system class to orchestrate these agents and tested the system with sample data and orders.\n",
        "\n",
        "This approach demonstrates the power of combining agent-based systems with robust data persistence solutions like MongoDB to create scalable and efficient order management systems."
      ]
    }
  ],
  "metadata": {
    "colab": {
      "provenance": []
    },
    "kernelspec": {
      "display_name": "Python 3",
      "language": "python",
      "name": "python3"
    },
    "language_info": {
      "codemirror_mode": {
        "name": "ipython",
        "version": 3
      },
      "file_extension": ".py",
      "mimetype": "text/x-python",
      "name": "python",
      "nbconvert_exporter": "python",
      "pygments_lexer": "ipython3",
      "version": "3.8.0"
    }
  },
  "nbformat": 4,
  "nbformat_minor": 0
}